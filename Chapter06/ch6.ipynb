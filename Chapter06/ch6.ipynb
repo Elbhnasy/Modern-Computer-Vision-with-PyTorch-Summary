{
 "cells": [
  {
   "cell_type": "markdown",
   "metadata": {},
   "source": [
    "# Practical Aspects of Image Classification\n",
    "\n",
    "- **Topics will be covered in this chapter:**\n",
    "    - Generating CAMs\n",
    "    - Understanding the impact of batch normalization and data augmentation\n",
    "    - Practical aspects to take care of during model implementation"
   ]
  },
  {
   "cell_type": "code",
   "execution_count": null,
   "metadata": {},
   "outputs": [],
   "source": []
  }
 ],
 "metadata": {
  "language_info": {
   "name": "python"
  }
 },
 "nbformat": 4,
 "nbformat_minor": 2
}
