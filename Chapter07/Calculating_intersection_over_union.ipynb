{
 "cells": [],
 "metadata": {
  "kernelspec": {
   "display_name": "T2.6",
   "language": "python",
   "name": "python3"
  },
  "language_info": {
   "name": "python",
   "version": "3.12.3"
  }
 },
 "nbformat": 4,
 "nbformat_minor": 5
}
